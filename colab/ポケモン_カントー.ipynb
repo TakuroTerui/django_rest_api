{
  "nbformat": 4,
  "nbformat_minor": 0,
  "metadata": {
    "colab": {
      "name": "ポケモン_カントー.ipynb",
      "provenance": [],
      "authorship_tag": "ABX9TyNJocun530Ljtt1T6+3+dfj"
    },
    "kernelspec": {
      "name": "python3",
      "display_name": "Python 3"
    },
    "language_info": {
      "name": "python"
    }
  },
  "cells": [
    {
      "cell_type": "code",
      "execution_count": null,
      "metadata": {
        "id": "uBB8aOhcxLyU"
      },
      "outputs": [],
      "source": [
        "import numpy as np\n",
        "import pandas as pd"
      ]
    },
    {
      "cell_type": "markdown",
      "source": [
        "### タイプデータ作成"
      ],
      "metadata": {
        "id": "zRgpPW864FVN"
      }
    },
    {
      "cell_type": "code",
      "source": [
        "df = pd.read_csv('/content/ポケモンデータシート_カントー.csv')\n",
        "df.head()"
      ],
      "metadata": {
        "colab": {
          "base_uri": "https://localhost:8080/",
          "height": 206
        },
        "id": "38dvFPtkxRou",
        "outputId": "59122ccb-369c-4149-da1d-7b887ef9bf1f"
      },
      "execution_count": null,
      "outputs": [
        {
          "output_type": "execute_result",
          "data": {
            "text/plain": [
              "   ぜんこくNo.     名前 タイプ1 タイプ2  HP  攻撃  防御   特攻   特防  素早さ\n",
              "0        1  フシギダネ   くさ   どく  45  49  49   65   65   45\n",
              "1        2  フシギソウ   くさ   どく  60  62  63   80   80   60\n",
              "2        3  フシギバナ   くさ   どく  80  82  83  100  100   80\n",
              "3        4   ヒトカゲ  ほのお  NaN  39  52  43   60   50   65\n",
              "4        5   リザード  ほのお  NaN  58  64  58   80   65   80"
            ],
            "text/html": [
              "\n",
              "  <div id=\"df-11eca57c-c0c8-479b-ba1c-cd0fb1924b91\">\n",
              "    <div class=\"colab-df-container\">\n",
              "      <div>\n",
              "<style scoped>\n",
              "    .dataframe tbody tr th:only-of-type {\n",
              "        vertical-align: middle;\n",
              "    }\n",
              "\n",
              "    .dataframe tbody tr th {\n",
              "        vertical-align: top;\n",
              "    }\n",
              "\n",
              "    .dataframe thead th {\n",
              "        text-align: right;\n",
              "    }\n",
              "</style>\n",
              "<table border=\"1\" class=\"dataframe\">\n",
              "  <thead>\n",
              "    <tr style=\"text-align: right;\">\n",
              "      <th></th>\n",
              "      <th>ぜんこくNo.</th>\n",
              "      <th>名前</th>\n",
              "      <th>タイプ1</th>\n",
              "      <th>タイプ2</th>\n",
              "      <th>HP</th>\n",
              "      <th>攻撃</th>\n",
              "      <th>防御</th>\n",
              "      <th>特攻</th>\n",
              "      <th>特防</th>\n",
              "      <th>素早さ</th>\n",
              "    </tr>\n",
              "  </thead>\n",
              "  <tbody>\n",
              "    <tr>\n",
              "      <th>0</th>\n",
              "      <td>1</td>\n",
              "      <td>フシギダネ</td>\n",
              "      <td>くさ</td>\n",
              "      <td>どく</td>\n",
              "      <td>45</td>\n",
              "      <td>49</td>\n",
              "      <td>49</td>\n",
              "      <td>65</td>\n",
              "      <td>65</td>\n",
              "      <td>45</td>\n",
              "    </tr>\n",
              "    <tr>\n",
              "      <th>1</th>\n",
              "      <td>2</td>\n",
              "      <td>フシギソウ</td>\n",
              "      <td>くさ</td>\n",
              "      <td>どく</td>\n",
              "      <td>60</td>\n",
              "      <td>62</td>\n",
              "      <td>63</td>\n",
              "      <td>80</td>\n",
              "      <td>80</td>\n",
              "      <td>60</td>\n",
              "    </tr>\n",
              "    <tr>\n",
              "      <th>2</th>\n",
              "      <td>3</td>\n",
              "      <td>フシギバナ</td>\n",
              "      <td>くさ</td>\n",
              "      <td>どく</td>\n",
              "      <td>80</td>\n",
              "      <td>82</td>\n",
              "      <td>83</td>\n",
              "      <td>100</td>\n",
              "      <td>100</td>\n",
              "      <td>80</td>\n",
              "    </tr>\n",
              "    <tr>\n",
              "      <th>3</th>\n",
              "      <td>4</td>\n",
              "      <td>ヒトカゲ</td>\n",
              "      <td>ほのお</td>\n",
              "      <td>NaN</td>\n",
              "      <td>39</td>\n",
              "      <td>52</td>\n",
              "      <td>43</td>\n",
              "      <td>60</td>\n",
              "      <td>50</td>\n",
              "      <td>65</td>\n",
              "    </tr>\n",
              "    <tr>\n",
              "      <th>4</th>\n",
              "      <td>5</td>\n",
              "      <td>リザード</td>\n",
              "      <td>ほのお</td>\n",
              "      <td>NaN</td>\n",
              "      <td>58</td>\n",
              "      <td>64</td>\n",
              "      <td>58</td>\n",
              "      <td>80</td>\n",
              "      <td>65</td>\n",
              "      <td>80</td>\n",
              "    </tr>\n",
              "  </tbody>\n",
              "</table>\n",
              "</div>\n",
              "      <button class=\"colab-df-convert\" onclick=\"convertToInteractive('df-11eca57c-c0c8-479b-ba1c-cd0fb1924b91')\"\n",
              "              title=\"Convert this dataframe to an interactive table.\"\n",
              "              style=\"display:none;\">\n",
              "        \n",
              "  <svg xmlns=\"http://www.w3.org/2000/svg\" height=\"24px\"viewBox=\"0 0 24 24\"\n",
              "       width=\"24px\">\n",
              "    <path d=\"M0 0h24v24H0V0z\" fill=\"none\"/>\n",
              "    <path d=\"M18.56 5.44l.94 2.06.94-2.06 2.06-.94-2.06-.94-.94-2.06-.94 2.06-2.06.94zm-11 1L8.5 8.5l.94-2.06 2.06-.94-2.06-.94L8.5 2.5l-.94 2.06-2.06.94zm10 10l.94 2.06.94-2.06 2.06-.94-2.06-.94-.94-2.06-.94 2.06-2.06.94z\"/><path d=\"M17.41 7.96l-1.37-1.37c-.4-.4-.92-.59-1.43-.59-.52 0-1.04.2-1.43.59L10.3 9.45l-7.72 7.72c-.78.78-.78 2.05 0 2.83L4 21.41c.39.39.9.59 1.41.59.51 0 1.02-.2 1.41-.59l7.78-7.78 2.81-2.81c.8-.78.8-2.07 0-2.86zM5.41 20L4 18.59l7.72-7.72 1.47 1.35L5.41 20z\"/>\n",
              "  </svg>\n",
              "      </button>\n",
              "      \n",
              "  <style>\n",
              "    .colab-df-container {\n",
              "      display:flex;\n",
              "      flex-wrap:wrap;\n",
              "      gap: 12px;\n",
              "    }\n",
              "\n",
              "    .colab-df-convert {\n",
              "      background-color: #E8F0FE;\n",
              "      border: none;\n",
              "      border-radius: 50%;\n",
              "      cursor: pointer;\n",
              "      display: none;\n",
              "      fill: #1967D2;\n",
              "      height: 32px;\n",
              "      padding: 0 0 0 0;\n",
              "      width: 32px;\n",
              "    }\n",
              "\n",
              "    .colab-df-convert:hover {\n",
              "      background-color: #E2EBFA;\n",
              "      box-shadow: 0px 1px 2px rgba(60, 64, 67, 0.3), 0px 1px 3px 1px rgba(60, 64, 67, 0.15);\n",
              "      fill: #174EA6;\n",
              "    }\n",
              "\n",
              "    [theme=dark] .colab-df-convert {\n",
              "      background-color: #3B4455;\n",
              "      fill: #D2E3FC;\n",
              "    }\n",
              "\n",
              "    [theme=dark] .colab-df-convert:hover {\n",
              "      background-color: #434B5C;\n",
              "      box-shadow: 0px 1px 3px 1px rgba(0, 0, 0, 0.15);\n",
              "      filter: drop-shadow(0px 1px 2px rgba(0, 0, 0, 0.3));\n",
              "      fill: #FFFFFF;\n",
              "    }\n",
              "  </style>\n",
              "\n",
              "      <script>\n",
              "        const buttonEl =\n",
              "          document.querySelector('#df-11eca57c-c0c8-479b-ba1c-cd0fb1924b91 button.colab-df-convert');\n",
              "        buttonEl.style.display =\n",
              "          google.colab.kernel.accessAllowed ? 'block' : 'none';\n",
              "\n",
              "        async function convertToInteractive(key) {\n",
              "          const element = document.querySelector('#df-11eca57c-c0c8-479b-ba1c-cd0fb1924b91');\n",
              "          const dataTable =\n",
              "            await google.colab.kernel.invokeFunction('convertToInteractive',\n",
              "                                                     [key], {});\n",
              "          if (!dataTable) return;\n",
              "\n",
              "          const docLinkHtml = 'Like what you see? Visit the ' +\n",
              "            '<a target=\"_blank\" href=https://colab.research.google.com/notebooks/data_table.ipynb>data table notebook</a>'\n",
              "            + ' to learn more about interactive tables.';\n",
              "          element.innerHTML = '';\n",
              "          dataTable['output_type'] = 'display_data';\n",
              "          await google.colab.output.renderOutput(dataTable, element);\n",
              "          const docLink = document.createElement('div');\n",
              "          docLink.innerHTML = docLinkHtml;\n",
              "          element.appendChild(docLink);\n",
              "        }\n",
              "      </script>\n",
              "    </div>\n",
              "  </div>\n",
              "  "
            ]
          },
          "metadata": {},
          "execution_count": 2
        }
      ]
    },
    {
      "cell_type": "code",
      "source": [
        "# タイプ1とタイプ2を結合し、重複削除\n",
        "type1 = df['タイプ1'].unique().tolist()\n",
        "type2 = df['タイプ2'].unique().tolist()\n",
        "type_all = type1 + type2\n",
        "type_all = set(type_all)\n",
        "type_all = list(type_all)\n",
        "print(type_all)"
      ],
      "metadata": {
        "colab": {
          "base_uri": "https://localhost:8080/"
        },
        "id": "yXNq0jSexbSO",
        "outputId": "b82082d6-e690-4099-a3a7-70a48453b776"
      },
      "execution_count": null,
      "outputs": [
        {
          "output_type": "stream",
          "name": "stdout",
          "text": [
            "[nan, 'じめん', 'くさ', 'フェアリー', 'あく', 'いわ', 'エスパー', 'ひこう', 'みず', 'むし', 'こおり', 'ドラゴン', 'ゴースト', 'でんき', 'どく', 'ほのお', 'はがね', 'かくとう', 'ノーマル']\n"
          ]
        }
      ]
    },
    {
      "cell_type": "code",
      "source": [
        "# nan削除\n",
        "del type_all[0]\n",
        "print(type_all)"
      ],
      "metadata": {
        "colab": {
          "base_uri": "https://localhost:8080/"
        },
        "id": "vnTMQ66u3eGk",
        "outputId": "e6d99cea-c120-49cb-8198-1bfbbcccf04d"
      },
      "execution_count": null,
      "outputs": [
        {
          "output_type": "stream",
          "name": "stdout",
          "text": [
            "['じめん', 'くさ', 'フェアリー', 'あく', 'いわ', 'エスパー', 'ひこう', 'みず', 'むし', 'こおり', 'ドラゴン', 'ゴースト', 'でんき', 'どく', 'ほのお', 'はがね', 'かくとう', 'ノーマル']\n"
          ]
        }
      ]
    },
    {
      "cell_type": "code",
      "source": [
        "# csv用にリスト化\n",
        "tmp_list = [['no', 'type']]\n",
        "type_dict = {}\n",
        "for no, type in enumerate(type_all):\n",
        "    tmp_list.append([str(no + 1), type])\n",
        "    type_dict[type] = str(no + 1)\n",
        "print(tmp_list)"
      ],
      "metadata": {
        "colab": {
          "base_uri": "https://localhost:8080/"
        },
        "id": "firZXAh4xo4B",
        "outputId": "9f5ea21a-db9a-46e1-db55-789e3797a73a"
      },
      "execution_count": null,
      "outputs": [
        {
          "output_type": "stream",
          "name": "stdout",
          "text": [
            "[['no', 'type'], ['1', 'じめん'], ['2', 'くさ'], ['3', 'フェアリー'], ['4', 'あく'], ['5', 'いわ'], ['6', 'エスパー'], ['7', 'ひこう'], ['8', 'みず'], ['9', 'むし'], ['10', 'こおり'], ['11', 'ドラゴン'], ['12', 'ゴースト'], ['13', 'でんき'], ['14', 'どく'], ['15', 'ほのお'], ['16', 'はがね'], ['17', 'かくとう'], ['18', 'ノーマル']]\n"
          ]
        }
      ]
    },
    {
      "cell_type": "code",
      "source": [
        "# csv出力\n",
        "import csv\n",
        "with open('pokemon_type.csv', 'w', newline='') as file:\n",
        "    writer = csv.writer(file)\n",
        "    writer.writerows(tmp_list)"
      ],
      "metadata": {
        "id": "NYAbHwYq2Lei"
      },
      "execution_count": null,
      "outputs": []
    },
    {
      "cell_type": "markdown",
      "source": [
        "### ポケモン・タイプ中間データ作成"
      ],
      "metadata": {
        "id": "7s64neH62kLi"
      }
    },
    {
      "cell_type": "code",
      "source": [
        "df.head()"
      ],
      "metadata": {
        "colab": {
          "base_uri": "https://localhost:8080/",
          "height": 206
        },
        "id": "mDmvnSA94Pl8",
        "outputId": "6b925e6f-bfd5-4ed8-ba5e-03ad62c4d9fb"
      },
      "execution_count": null,
      "outputs": [
        {
          "output_type": "execute_result",
          "data": {
            "text/plain": [
              "   ぜんこくNo.     名前 タイプ1 タイプ2  HP  攻撃  防御   特攻   特防  素早さ\n",
              "0        1  フシギダネ   くさ   どく  45  49  49   65   65   45\n",
              "1        2  フシギソウ   くさ   どく  60  62  63   80   80   60\n",
              "2        3  フシギバナ   くさ   どく  80  82  83  100  100   80\n",
              "3        4   ヒトカゲ  ほのお  NaN  39  52  43   60   50   65\n",
              "4        5   リザード  ほのお  NaN  58  64  58   80   65   80"
            ],
            "text/html": [
              "\n",
              "  <div id=\"df-7dd647f0-f379-4fc2-849f-fac93be8446c\">\n",
              "    <div class=\"colab-df-container\">\n",
              "      <div>\n",
              "<style scoped>\n",
              "    .dataframe tbody tr th:only-of-type {\n",
              "        vertical-align: middle;\n",
              "    }\n",
              "\n",
              "    .dataframe tbody tr th {\n",
              "        vertical-align: top;\n",
              "    }\n",
              "\n",
              "    .dataframe thead th {\n",
              "        text-align: right;\n",
              "    }\n",
              "</style>\n",
              "<table border=\"1\" class=\"dataframe\">\n",
              "  <thead>\n",
              "    <tr style=\"text-align: right;\">\n",
              "      <th></th>\n",
              "      <th>ぜんこくNo.</th>\n",
              "      <th>名前</th>\n",
              "      <th>タイプ1</th>\n",
              "      <th>タイプ2</th>\n",
              "      <th>HP</th>\n",
              "      <th>攻撃</th>\n",
              "      <th>防御</th>\n",
              "      <th>特攻</th>\n",
              "      <th>特防</th>\n",
              "      <th>素早さ</th>\n",
              "    </tr>\n",
              "  </thead>\n",
              "  <tbody>\n",
              "    <tr>\n",
              "      <th>0</th>\n",
              "      <td>1</td>\n",
              "      <td>フシギダネ</td>\n",
              "      <td>くさ</td>\n",
              "      <td>どく</td>\n",
              "      <td>45</td>\n",
              "      <td>49</td>\n",
              "      <td>49</td>\n",
              "      <td>65</td>\n",
              "      <td>65</td>\n",
              "      <td>45</td>\n",
              "    </tr>\n",
              "    <tr>\n",
              "      <th>1</th>\n",
              "      <td>2</td>\n",
              "      <td>フシギソウ</td>\n",
              "      <td>くさ</td>\n",
              "      <td>どく</td>\n",
              "      <td>60</td>\n",
              "      <td>62</td>\n",
              "      <td>63</td>\n",
              "      <td>80</td>\n",
              "      <td>80</td>\n",
              "      <td>60</td>\n",
              "    </tr>\n",
              "    <tr>\n",
              "      <th>2</th>\n",
              "      <td>3</td>\n",
              "      <td>フシギバナ</td>\n",
              "      <td>くさ</td>\n",
              "      <td>どく</td>\n",
              "      <td>80</td>\n",
              "      <td>82</td>\n",
              "      <td>83</td>\n",
              "      <td>100</td>\n",
              "      <td>100</td>\n",
              "      <td>80</td>\n",
              "    </tr>\n",
              "    <tr>\n",
              "      <th>3</th>\n",
              "      <td>4</td>\n",
              "      <td>ヒトカゲ</td>\n",
              "      <td>ほのお</td>\n",
              "      <td>NaN</td>\n",
              "      <td>39</td>\n",
              "      <td>52</td>\n",
              "      <td>43</td>\n",
              "      <td>60</td>\n",
              "      <td>50</td>\n",
              "      <td>65</td>\n",
              "    </tr>\n",
              "    <tr>\n",
              "      <th>4</th>\n",
              "      <td>5</td>\n",
              "      <td>リザード</td>\n",
              "      <td>ほのお</td>\n",
              "      <td>NaN</td>\n",
              "      <td>58</td>\n",
              "      <td>64</td>\n",
              "      <td>58</td>\n",
              "      <td>80</td>\n",
              "      <td>65</td>\n",
              "      <td>80</td>\n",
              "    </tr>\n",
              "  </tbody>\n",
              "</table>\n",
              "</div>\n",
              "      <button class=\"colab-df-convert\" onclick=\"convertToInteractive('df-7dd647f0-f379-4fc2-849f-fac93be8446c')\"\n",
              "              title=\"Convert this dataframe to an interactive table.\"\n",
              "              style=\"display:none;\">\n",
              "        \n",
              "  <svg xmlns=\"http://www.w3.org/2000/svg\" height=\"24px\"viewBox=\"0 0 24 24\"\n",
              "       width=\"24px\">\n",
              "    <path d=\"M0 0h24v24H0V0z\" fill=\"none\"/>\n",
              "    <path d=\"M18.56 5.44l.94 2.06.94-2.06 2.06-.94-2.06-.94-.94-2.06-.94 2.06-2.06.94zm-11 1L8.5 8.5l.94-2.06 2.06-.94-2.06-.94L8.5 2.5l-.94 2.06-2.06.94zm10 10l.94 2.06.94-2.06 2.06-.94-2.06-.94-.94-2.06-.94 2.06-2.06.94z\"/><path d=\"M17.41 7.96l-1.37-1.37c-.4-.4-.92-.59-1.43-.59-.52 0-1.04.2-1.43.59L10.3 9.45l-7.72 7.72c-.78.78-.78 2.05 0 2.83L4 21.41c.39.39.9.59 1.41.59.51 0 1.02-.2 1.41-.59l7.78-7.78 2.81-2.81c.8-.78.8-2.07 0-2.86zM5.41 20L4 18.59l7.72-7.72 1.47 1.35L5.41 20z\"/>\n",
              "  </svg>\n",
              "      </button>\n",
              "      \n",
              "  <style>\n",
              "    .colab-df-container {\n",
              "      display:flex;\n",
              "      flex-wrap:wrap;\n",
              "      gap: 12px;\n",
              "    }\n",
              "\n",
              "    .colab-df-convert {\n",
              "      background-color: #E8F0FE;\n",
              "      border: none;\n",
              "      border-radius: 50%;\n",
              "      cursor: pointer;\n",
              "      display: none;\n",
              "      fill: #1967D2;\n",
              "      height: 32px;\n",
              "      padding: 0 0 0 0;\n",
              "      width: 32px;\n",
              "    }\n",
              "\n",
              "    .colab-df-convert:hover {\n",
              "      background-color: #E2EBFA;\n",
              "      box-shadow: 0px 1px 2px rgba(60, 64, 67, 0.3), 0px 1px 3px 1px rgba(60, 64, 67, 0.15);\n",
              "      fill: #174EA6;\n",
              "    }\n",
              "\n",
              "    [theme=dark] .colab-df-convert {\n",
              "      background-color: #3B4455;\n",
              "      fill: #D2E3FC;\n",
              "    }\n",
              "\n",
              "    [theme=dark] .colab-df-convert:hover {\n",
              "      background-color: #434B5C;\n",
              "      box-shadow: 0px 1px 3px 1px rgba(0, 0, 0, 0.15);\n",
              "      filter: drop-shadow(0px 1px 2px rgba(0, 0, 0, 0.3));\n",
              "      fill: #FFFFFF;\n",
              "    }\n",
              "  </style>\n",
              "\n",
              "      <script>\n",
              "        const buttonEl =\n",
              "          document.querySelector('#df-7dd647f0-f379-4fc2-849f-fac93be8446c button.colab-df-convert');\n",
              "        buttonEl.style.display =\n",
              "          google.colab.kernel.accessAllowed ? 'block' : 'none';\n",
              "\n",
              "        async function convertToInteractive(key) {\n",
              "          const element = document.querySelector('#df-7dd647f0-f379-4fc2-849f-fac93be8446c');\n",
              "          const dataTable =\n",
              "            await google.colab.kernel.invokeFunction('convertToInteractive',\n",
              "                                                     [key], {});\n",
              "          if (!dataTable) return;\n",
              "\n",
              "          const docLinkHtml = 'Like what you see? Visit the ' +\n",
              "            '<a target=\"_blank\" href=https://colab.research.google.com/notebooks/data_table.ipynb>data table notebook</a>'\n",
              "            + ' to learn more about interactive tables.';\n",
              "          element.innerHTML = '';\n",
              "          dataTable['output_type'] = 'display_data';\n",
              "          await google.colab.output.renderOutput(dataTable, element);\n",
              "          const docLink = document.createElement('div');\n",
              "          docLink.innerHTML = docLinkHtml;\n",
              "          element.appendChild(docLink);\n",
              "        }\n",
              "      </script>\n",
              "    </div>\n",
              "  </div>\n",
              "  "
            ]
          },
          "metadata": {},
          "execution_count": 7
        }
      ]
    },
    {
      "cell_type": "code",
      "source": [
        "type_dict"
      ],
      "metadata": {
        "colab": {
          "base_uri": "https://localhost:8080/"
        },
        "id": "cMnoqiY26f1e",
        "outputId": "5eb6d349-6f06-467a-b76c-9a5ddcc980d8"
      },
      "execution_count": null,
      "outputs": [
        {
          "output_type": "execute_result",
          "data": {
            "text/plain": [
              "{'あく': '4',\n",
              " 'いわ': '5',\n",
              " 'かくとう': '17',\n",
              " 'くさ': '2',\n",
              " 'こおり': '10',\n",
              " 'じめん': '1',\n",
              " 'でんき': '13',\n",
              " 'どく': '14',\n",
              " 'はがね': '16',\n",
              " 'ひこう': '7',\n",
              " 'ほのお': '15',\n",
              " 'みず': '8',\n",
              " 'むし': '9',\n",
              " 'エスパー': '6',\n",
              " 'ゴースト': '12',\n",
              " 'ドラゴン': '11',\n",
              " 'ノーマル': '18',\n",
              " 'フェアリー': '3'}"
            ]
          },
          "metadata": {},
          "execution_count": 8
        }
      ]
    },
    {
      "cell_type": "code",
      "source": [
        "# 中間テーブル作成\n",
        "pokemon_type = [['pokemon_id', 'type_id']]\n",
        "for index, data in df.iterrows():\n",
        "    pokemon_type.append([data['ぜんこくNo.'], type_dict[data['タイプ1']]])\n",
        "    if data['タイプ2']  in type_dict:\n",
        "        pokemon_type.append([data['ぜんこくNo.'], type_dict[data['タイプ2']]])\n",
        "print(pokemon_type)"
      ],
      "metadata": {
        "colab": {
          "base_uri": "https://localhost:8080/"
        },
        "id": "0RyLK7fl4Tfs",
        "outputId": "8d8bd036-1612-4133-b98a-71817e2df56b"
      },
      "execution_count": null,
      "outputs": [
        {
          "output_type": "stream",
          "name": "stdout",
          "text": [
            "[['pokemon_id', 'type_id'], [1, '2'], [1, '14'], [2, '2'], [2, '14'], [3, '2'], [3, '14'], [4, '15'], [5, '15'], [6, '15'], [6, '7'], [7, '8'], [8, '8'], [9, '8'], [10, '9'], [11, '9'], [12, '9'], [12, '7'], [13, '9'], [13, '14'], [14, '9'], [14, '14'], [15, '9'], [15, '14'], [16, '18'], [16, '7'], [17, '18'], [17, '7'], [18, '18'], [18, '7'], [19, '18'], [20, '18'], [20, '4'], [20, '18'], [21, '18'], [21, '7'], [22, '18'], [22, '7'], [23, '14'], [24, '14'], [25, '13'], [26, '13'], [27, '1'], [28, '1'], [29, '14'], [30, '14'], [31, '14'], [31, '1'], [32, '14'], [33, '14'], [34, '14'], [34, '1'], [35, '3'], [36, '3'], [37, '15'], [38, '15'], [39, '18'], [39, '3'], [40, '18'], [40, '3'], [41, '14'], [41, '7'], [42, '14'], [42, '7'], [43, '2'], [43, '14'], [44, '2'], [44, '14'], [45, '2'], [45, '14'], [46, '9'], [46, '2'], [47, '9'], [47, '2'], [48, '9'], [48, '14'], [49, '9'], [49, '14'], [50, '1'], [51, '1'], [52, '18'], [53, '18'], [54, '8'], [55, '8'], [56, '17'], [57, '17'], [58, '15'], [59, '15'], [60, '8'], [61, '8'], [62, '8'], [62, '17'], [63, '6'], [64, '6'], [65, '6'], [66, '17'], [67, '17'], [68, '17'], [69, '2'], [69, '14'], [70, '2'], [70, '14'], [71, '2'], [71, '14'], [72, '8'], [72, '14'], [73, '8'], [73, '14'], [74, '5'], [74, '1'], [75, '5'], [75, '1'], [76, '5'], [76, '1'], [77, '15'], [78, '15'], [79, '8'], [79, '6'], [80, '8'], [80, '6'], [81, '13'], [81, '16'], [82, '13'], [82, '16'], [83, '18'], [83, '7'], [84, '18'], [84, '7'], [85, '18'], [85, '7'], [86, '8'], [87, '8'], [87, '10'], [88, '14'], [89, '14'], [90, '8'], [91, '8'], [91, '10'], [92, '12'], [92, '14'], [93, '12'], [93, '14'], [94, '12'], [94, '14'], [95, '5'], [95, '1'], [96, '6'], [97, '6'], [98, '8'], [99, '8'], [100, '13'], [101, '13'], [102, '2'], [102, '6'], [103, '2'], [103, '6'], [104, '1'], [105, '1'], [106, '17'], [107, '17'], [108, '18'], [109, '14'], [110, '14'], [111, '1'], [111, '5'], [112, '1'], [112, '5'], [113, '18'], [114, '2'], [115, '18'], [116, '8'], [117, '8'], [118, '8'], [119, '8'], [120, '8'], [121, '8'], [121, '6'], [122, '6'], [122, '3'], [123, '9'], [123, '7'], [124, '10'], [124, '6'], [125, '13'], [126, '15'], [127, '9'], [128, '18'], [129, '8'], [130, '8'], [130, '7'], [131, '8'], [131, '10'], [132, '18'], [133, '18'], [134, '8'], [135, '13'], [136, '15'], [137, '18'], [138, '5'], [138, '8'], [139, '5'], [139, '8'], [140, '5'], [140, '8'], [141, '5'], [141, '8'], [142, '5'], [142, '7'], [143, '18'], [144, '10'], [144, '7'], [145, '13'], [145, '7'], [146, '15'], [146, '7'], [147, '11'], [148, '11'], [149, '11'], [149, '7'], [150, '6'], [151, '6']]\n"
          ]
        }
      ]
    },
    {
      "cell_type": "code",
      "source": [
        "with open('pokemon_id_type_id.csv', 'w', newline='') as file:\n",
        "    writer = csv.writer(file)\n",
        "    writer.writerows(pokemon_type)"
      ],
      "metadata": {
        "id": "XPK5WWPH6aQt"
      },
      "execution_count": null,
      "outputs": []
    },
    {
      "cell_type": "code",
      "source": [
        "df_rename = df.rename(columns={\n",
        "    'ぜんこくNo.': 'pokemon_id', \n",
        "    '名前': 'name', \n",
        "    'HP': 'hit_points', \n",
        "    '攻撃': 'attack', \n",
        "    '防御': 'defense', \n",
        "    '特攻': 'special_attack', \n",
        "    '特防': 'special_defense', \n",
        "    '素早さ': 'speed', \n",
        "})"
      ],
      "metadata": {
        "id": "sJJFNPn267lN"
      },
      "execution_count": null,
      "outputs": []
    },
    {
      "cell_type": "code",
      "source": [
        "df_rename = df_rename.drop(\"タイプ1\", axis=1)\n",
        "df_rename = df_rename.drop(\"タイプ2\", axis=1)\n",
        "df_rename.head()"
      ],
      "metadata": {
        "colab": {
          "base_uri": "https://localhost:8080/",
          "height": 206
        },
        "id": "I6O6u7_E8EIK",
        "outputId": "14781fd4-7aea-4e3f-f945-0b54064e0cbf"
      },
      "execution_count": null,
      "outputs": [
        {
          "output_type": "execute_result",
          "data": {
            "text/plain": [
              "   pokemon_id   name  hit_points  attack  defense  special_attack  \\\n",
              "0           1  フシギダネ          45      49       49              65   \n",
              "1           2  フシギソウ          60      62       63              80   \n",
              "2           3  フシギバナ          80      82       83             100   \n",
              "3           4   ヒトカゲ          39      52       43              60   \n",
              "4           5   リザード          58      64       58              80   \n",
              "\n",
              "   special_defense  speed  \n",
              "0               65     45  \n",
              "1               80     60  \n",
              "2              100     80  \n",
              "3               50     65  \n",
              "4               65     80  "
            ],
            "text/html": [
              "\n",
              "  <div id=\"df-195dbf1e-23e1-4556-ad62-31b0dd28b895\">\n",
              "    <div class=\"colab-df-container\">\n",
              "      <div>\n",
              "<style scoped>\n",
              "    .dataframe tbody tr th:only-of-type {\n",
              "        vertical-align: middle;\n",
              "    }\n",
              "\n",
              "    .dataframe tbody tr th {\n",
              "        vertical-align: top;\n",
              "    }\n",
              "\n",
              "    .dataframe thead th {\n",
              "        text-align: right;\n",
              "    }\n",
              "</style>\n",
              "<table border=\"1\" class=\"dataframe\">\n",
              "  <thead>\n",
              "    <tr style=\"text-align: right;\">\n",
              "      <th></th>\n",
              "      <th>pokemon_id</th>\n",
              "      <th>name</th>\n",
              "      <th>hit_points</th>\n",
              "      <th>attack</th>\n",
              "      <th>defense</th>\n",
              "      <th>special_attack</th>\n",
              "      <th>special_defense</th>\n",
              "      <th>speed</th>\n",
              "    </tr>\n",
              "  </thead>\n",
              "  <tbody>\n",
              "    <tr>\n",
              "      <th>0</th>\n",
              "      <td>1</td>\n",
              "      <td>フシギダネ</td>\n",
              "      <td>45</td>\n",
              "      <td>49</td>\n",
              "      <td>49</td>\n",
              "      <td>65</td>\n",
              "      <td>65</td>\n",
              "      <td>45</td>\n",
              "    </tr>\n",
              "    <tr>\n",
              "      <th>1</th>\n",
              "      <td>2</td>\n",
              "      <td>フシギソウ</td>\n",
              "      <td>60</td>\n",
              "      <td>62</td>\n",
              "      <td>63</td>\n",
              "      <td>80</td>\n",
              "      <td>80</td>\n",
              "      <td>60</td>\n",
              "    </tr>\n",
              "    <tr>\n",
              "      <th>2</th>\n",
              "      <td>3</td>\n",
              "      <td>フシギバナ</td>\n",
              "      <td>80</td>\n",
              "      <td>82</td>\n",
              "      <td>83</td>\n",
              "      <td>100</td>\n",
              "      <td>100</td>\n",
              "      <td>80</td>\n",
              "    </tr>\n",
              "    <tr>\n",
              "      <th>3</th>\n",
              "      <td>4</td>\n",
              "      <td>ヒトカゲ</td>\n",
              "      <td>39</td>\n",
              "      <td>52</td>\n",
              "      <td>43</td>\n",
              "      <td>60</td>\n",
              "      <td>50</td>\n",
              "      <td>65</td>\n",
              "    </tr>\n",
              "    <tr>\n",
              "      <th>4</th>\n",
              "      <td>5</td>\n",
              "      <td>リザード</td>\n",
              "      <td>58</td>\n",
              "      <td>64</td>\n",
              "      <td>58</td>\n",
              "      <td>80</td>\n",
              "      <td>65</td>\n",
              "      <td>80</td>\n",
              "    </tr>\n",
              "  </tbody>\n",
              "</table>\n",
              "</div>\n",
              "      <button class=\"colab-df-convert\" onclick=\"convertToInteractive('df-195dbf1e-23e1-4556-ad62-31b0dd28b895')\"\n",
              "              title=\"Convert this dataframe to an interactive table.\"\n",
              "              style=\"display:none;\">\n",
              "        \n",
              "  <svg xmlns=\"http://www.w3.org/2000/svg\" height=\"24px\"viewBox=\"0 0 24 24\"\n",
              "       width=\"24px\">\n",
              "    <path d=\"M0 0h24v24H0V0z\" fill=\"none\"/>\n",
              "    <path d=\"M18.56 5.44l.94 2.06.94-2.06 2.06-.94-2.06-.94-.94-2.06-.94 2.06-2.06.94zm-11 1L8.5 8.5l.94-2.06 2.06-.94-2.06-.94L8.5 2.5l-.94 2.06-2.06.94zm10 10l.94 2.06.94-2.06 2.06-.94-2.06-.94-.94-2.06-.94 2.06-2.06.94z\"/><path d=\"M17.41 7.96l-1.37-1.37c-.4-.4-.92-.59-1.43-.59-.52 0-1.04.2-1.43.59L10.3 9.45l-7.72 7.72c-.78.78-.78 2.05 0 2.83L4 21.41c.39.39.9.59 1.41.59.51 0 1.02-.2 1.41-.59l7.78-7.78 2.81-2.81c.8-.78.8-2.07 0-2.86zM5.41 20L4 18.59l7.72-7.72 1.47 1.35L5.41 20z\"/>\n",
              "  </svg>\n",
              "      </button>\n",
              "      \n",
              "  <style>\n",
              "    .colab-df-container {\n",
              "      display:flex;\n",
              "      flex-wrap:wrap;\n",
              "      gap: 12px;\n",
              "    }\n",
              "\n",
              "    .colab-df-convert {\n",
              "      background-color: #E8F0FE;\n",
              "      border: none;\n",
              "      border-radius: 50%;\n",
              "      cursor: pointer;\n",
              "      display: none;\n",
              "      fill: #1967D2;\n",
              "      height: 32px;\n",
              "      padding: 0 0 0 0;\n",
              "      width: 32px;\n",
              "    }\n",
              "\n",
              "    .colab-df-convert:hover {\n",
              "      background-color: #E2EBFA;\n",
              "      box-shadow: 0px 1px 2px rgba(60, 64, 67, 0.3), 0px 1px 3px 1px rgba(60, 64, 67, 0.15);\n",
              "      fill: #174EA6;\n",
              "    }\n",
              "\n",
              "    [theme=dark] .colab-df-convert {\n",
              "      background-color: #3B4455;\n",
              "      fill: #D2E3FC;\n",
              "    }\n",
              "\n",
              "    [theme=dark] .colab-df-convert:hover {\n",
              "      background-color: #434B5C;\n",
              "      box-shadow: 0px 1px 3px 1px rgba(0, 0, 0, 0.15);\n",
              "      filter: drop-shadow(0px 1px 2px rgba(0, 0, 0, 0.3));\n",
              "      fill: #FFFFFF;\n",
              "    }\n",
              "  </style>\n",
              "\n",
              "      <script>\n",
              "        const buttonEl =\n",
              "          document.querySelector('#df-195dbf1e-23e1-4556-ad62-31b0dd28b895 button.colab-df-convert');\n",
              "        buttonEl.style.display =\n",
              "          google.colab.kernel.accessAllowed ? 'block' : 'none';\n",
              "\n",
              "        async function convertToInteractive(key) {\n",
              "          const element = document.querySelector('#df-195dbf1e-23e1-4556-ad62-31b0dd28b895');\n",
              "          const dataTable =\n",
              "            await google.colab.kernel.invokeFunction('convertToInteractive',\n",
              "                                                     [key], {});\n",
              "          if (!dataTable) return;\n",
              "\n",
              "          const docLinkHtml = 'Like what you see? Visit the ' +\n",
              "            '<a target=\"_blank\" href=https://colab.research.google.com/notebooks/data_table.ipynb>data table notebook</a>'\n",
              "            + ' to learn more about interactive tables.';\n",
              "          element.innerHTML = '';\n",
              "          dataTable['output_type'] = 'display_data';\n",
              "          await google.colab.output.renderOutput(dataTable, element);\n",
              "          const docLink = document.createElement('div');\n",
              "          docLink.innerHTML = docLinkHtml;\n",
              "          element.appendChild(docLink);\n",
              "        }\n",
              "      </script>\n",
              "    </div>\n",
              "  </div>\n",
              "  "
            ]
          },
          "metadata": {},
          "execution_count": 12
        }
      ]
    },
    {
      "cell_type": "code",
      "source": [
        "df_rename.to_csv('pokemon.csv', index=False)"
      ],
      "metadata": {
        "id": "1T2mEz1A8dNI"
      },
      "execution_count": null,
      "outputs": []
    }
  ]
}